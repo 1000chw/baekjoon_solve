{
 "cells": [
  {
   "cell_type": "code",
   "execution_count": null,
   "metadata": {},
   "outputs": [],
   "source": [
    "from sys import stdin\n",
    "\n",
    "sentence1 = list(stdin.readline().rstrip())  # 커서의 왼쪽\n",
    "sentence2 = []  # 커서의 오른쪽\n",
    "n = int(stdin.readline())\n",
    "\n",
    "for i in range(n):\n",
    "    cmd = stdin.readline().split()\n",
    "    if cmd[0] == \"L\":\n",
    "        if sentence1:\n",
    "            sentence2.append(sentence1.pop())\n",
    "    elif cmd[0] == \"D\":\n",
    "        if sentence2:\n",
    "            sentence1.append(sentence2.pop())\n",
    "    elif cmd[0] == \"B\":\n",
    "        if sentence1:\n",
    "            sentence1.pop()\n",
    "    else:\n",
    "        sentence1.append(cmd[1])\n",
    "sentence2.reverse()\n",
    "\n",
    "for i in sentence1:\n",
    "    print(i, end=\"\")\n",
    "for i in sentence2:\n",
    "    print(i, end=\"\")"
   ]
  }
 ],
 "metadata": {
  "kernelspec": {
   "display_name": "Python 3",
   "language": "python",
   "name": "python3"
  },
  "language_info": {
   "codemirror_mode": {
    "name": "ipython",
    "version": 3
   },
   "file_extension": ".py",
   "mimetype": "text/x-python",
   "name": "python",
   "nbconvert_exporter": "python",
   "pygments_lexer": "ipython3",
   "version": "3.8.5"
  }
 },
 "nbformat": 4,
 "nbformat_minor": 4
}

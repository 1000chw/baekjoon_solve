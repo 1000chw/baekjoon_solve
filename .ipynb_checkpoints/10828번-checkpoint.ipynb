{
 "cells": [
  {
   "cell_type": "code",
   "execution_count": null,
   "metadata": {},
   "outputs": [],
   "source": [
    "import sys\n",
    "li = []\n",
    "\n",
    "def push(n):\n",
    "    global li\n",
    "    li.append(n)\n",
    "\n",
    "def top():\n",
    "    if len(li) == 0:\n",
    "        print(-1)\n",
    "    else:\n",
    "        print(li[len(li)-1])\n",
    "\n",
    "def size():\n",
    "    print(len(li))\n",
    "\n",
    "def pop():\n",
    "    global li\n",
    "    if len(li) == 0:\n",
    "        print(-1)\n",
    "    else:\n",
    "        print(li[len(li) - 1])\n",
    "        del li[len(li) - 1]\n",
    "\n",
    "def empty():\n",
    "    if len(li) == 0:\n",
    "        print(1)\n",
    "    else:\n",
    "        print(0)\n",
    "\n",
    "n = int(input())\n",
    "for i in range(n):\n",
    "    chk = sys.stdin.readline().rstrip().split()\n",
    "    if len(chk) == 1:\n",
    "        if(chk[0]==\"top\"):\n",
    "            top()\n",
    "        elif(chk[0]==\"pop\"):\n",
    "            pop()\n",
    "        elif(chk[0]==\"size\"):\n",
    "            size()\n",
    "        else: empty()\n",
    "    else:\n",
    "        push(int(chk[1]))"
   ]
  }
 ],
 "metadata": {
  "kernelspec": {
   "display_name": "Python 3",
   "language": "python",
   "name": "python3"
  },
  "language_info": {
   "codemirror_mode": {
    "name": "ipython",
    "version": 3
   },
   "file_extension": ".py",
   "mimetype": "text/x-python",
   "name": "python",
   "nbconvert_exporter": "python",
   "pygments_lexer": "ipython3",
   "version": "3.8.5"
  }
 },
 "nbformat": 4,
 "nbformat_minor": 4
}
